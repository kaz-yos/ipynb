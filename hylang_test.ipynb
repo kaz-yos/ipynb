{
 "metadata": {
  "name": "",
  "signature": "sha256:64fa2bbdfe9282577afd2b1d38b2d664b592d2ab04562dc38966814d3aaec380"
 },
 "nbformat": 3,
 "nbformat_minor": 0,
 "worksheets": [
  {
   "cells": [
    {
     "cell_type": "heading",
     "level": 1,
     "source": [
      "*Hy test run!*"
     ]
    },
    {
     "cell_type": "markdown",
     "source": [
      "![Hy logo](http://docs.hylang.org/en/latest/_images/hy-logo-small.png \"Hy logo\")\n",
      "\n",
      "The Hy language (hylang) is a lisp language running on Python provided as a Python package. The full power of Python is leverage with lisp syntax!\n",
      "\n",
      "Hy\n",
      "http://docs.hylang.org/en/latest/\n",
      "\n",
      "hymagic IPython plugin.\n",
      "https://github.com/yardsale8/hymagic"
     ]
    },
    {
     "cell_type": "code",
     "collapsed": false,
     "input": [
      "# Load hymagic\n",
      "%load_ext hymagic"
     ],
     "language": "python",
     "outputs": [
      {
       "output_type": "stream",
       "stream": "stdout",
       "text": [
        "The hymagic extension is already loaded. To reload it, use:\n",
        "  %reload_ext hymagic\n"
       ]
      }
     ],
     "prompt_number": 3
    },
    {
     "cell_type": "code",
     "collapsed": false,
     "input": [
      "%%hylang ; Make this whole cell a Hy cell\n",
      "(print \"Hy, there!\")"
     ],
     "language": "python",
     "outputs": [
      {
       "output_type": "stream",
       "stream": "stdout",
       "text": [
        "Hy, there!\n"
       ]
      }
     ],
     "prompt_number": 4
    },
    {
     "cell_type": "code",
     "collapsed": false,
     "input": [
      "%%hylang\n",
      ";; Define the map function\n",
      "(defn mapcar [f s]\n",
      "  ;; Define in terms of list comprehension\n",
      "  (list-comp (f x) [x s]))\n",
      "\n",
      ";; Define square function\n",
      "(defn square [n]\n",
      "  (* n n))\n",
      "\n",
      ";; Define an efficient fib function\n",
      "(defn fib-helper [n i acc]\n",
      "  (if (>= i n)\n",
      "    (first acc)\n",
      "    (fib-helper n\n",
      "                (+ 1 i)\n",
      "                [(first (rest acc)) (+ (first acc) (first (rest acc)))])))\n",
      "(defn fib [n]\n",
      "  (fib-helper n 0 [1 1]))"
     ],
     "language": "python",
     "outputs": [],
     "prompt_number": 5
    },
    {
     "cell_type": "code",
     "collapsed": false,
     "input": [
      "%%hylang\n",
      "(mapcar square (range 0 10))"
     ],
     "language": "python",
     "outputs": [
      {
       "output_type": "pyout",
       "prompt_number": 6,
       "text": [
        "[0, 1, 4, 9, 16, 25, 36, 49, 64, 81]"
       ]
      }
     ],
     "prompt_number": 6
    },
    {
     "cell_type": "code",
     "collapsed": false,
     "input": [
      "%%hylang\n",
      ";; Clojure-like threading macro\n",
      "(->> (range 0 100)\n",
      "  (mapcar fib)\n",
      "  (print))"
     ],
     "language": "python",
     "outputs": [
      {
       "output_type": "stream",
       "stream": "stdout",
       "text": [
        "[1, 1, 2, 3, 5, 8, 13, 21, 34, 55, 89, 144, 233, 377, 610, 987, 1597, 2584, 4181, 6765, 10946, 17711, 28657, 46368, 75025, 121393, 196418, 317811, 514229, 832040, 1346269, 2178309, 3524578, 5702887, 9227465, 14930352, 24157817, 39088169, 63245986, 102334155, 165580141, 267914296, 433494437, 701408733, 1134903170, 1836311903, 2971215073, 4807526976, 7778742049, 12586269025, 20365011074, 32951280099, 53316291173, 86267571272, 139583862445, 225851433717, 365435296162, 591286729879, 956722026041, 1548008755920, 2504730781961, 4052739537881, 6557470319842, 10610209857723, 17167680177565, 27777890035288, 44945570212853, 72723460248141, 117669030460994, 190392490709135, 308061521170129, 498454011879264, 806515533049393, 1304969544928657, 2111485077978050, 3416454622906707, 5527939700884757, 8944394323791464, 14472334024676221, 23416728348467685, 37889062373143906, 61305790721611591, 99194853094755497, 160500643816367088, 259695496911122585, 420196140727489673, 679891637638612258, 1100087778366101931, 1779979416004714189, 2880067194370816120, 4660046610375530309, 7540113804746346429, 12200160415121876738, 19740274219868223167, 31940434634990099905, 51680708854858323072, 83621143489848422977, 135301852344706746049, 218922995834555169026, 354224848179261915075]\n"
       ]
      }
     ],
     "prompt_number": 7
    }
   ]
  }
 ]
}