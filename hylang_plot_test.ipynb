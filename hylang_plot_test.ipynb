{
 "metadata": {
  "name": "",
  "signature": "sha256:de0b6160c4b11c740702c3cae9ab6a896301fc26c777f86c0982525b55127450"
 },
 "nbformat": 3,
 "nbformat_minor": 0,
 "worksheets": [
  {
   "cells": [
    {
     "cell_type": "heading",
     "level": 1,
     "source": [
      "*Hy test run! scikit-learn*"
     ]
    },
    {
     "cell_type": "markdown",
     "source": [
      "![Hy logo](http://docs.hylang.org/en/latest/_images/hy-logo-small.png \"Hy logo\")\n",
      "\n",
      "The Hy language (hylang) is a lisp language running on Python provided as a Python package. The full power of Python is leverage with lisp syntax!\n",
      "\n",
      "Hy\n",
      "http://docs.hylang.org/en/latest/\n",
      "\n",
      "hymagic IPython plugin.\n",
      "https://github.com/yardsale8/hymagic"
     ]
    },
    {
     "cell_type": "markdown",
     "source": [
      "This example is from the book IPython Interactive Computing and Visualization Cookbook"
     ]
    },
    {
     "cell_type": "code",
     "collapsed": false,
     "input": [
      "%load_ext hymagic"
     ],
     "language": "python",
     "outputs": [],
     "prompt_number": 4
    },
    {
     "cell_type": "code",
     "collapsed": false,
     "input": [
      "%%hylang\n",
      "(import [numpy :as np]\n",
      "        [scipy.stats :as st]\n",
      "        [sklearn.linear_model :as lm]\n",
      "        [matplotlib.pyplot :as plt])\n"
     ],
     "language": "python",
     "outputs": [],
     "prompt_number": 5
    },
    {
     "cell_type": "code",
     "collapsed": false,
     "input": [
      "%matplotlib inline"
     ],
     "language": "python",
     "outputs": [],
     "prompt_number": 6
    },
    {
     "cell_type": "code",
     "collapsed": false,
     "input": [
      "%%hylang\n",
      "(defn f [x]\n",
      "  (np.exp (* 3 x)))\n"
     ],
     "language": "python",
     "outputs": [],
     "prompt_number": 8
    },
    {
     "cell_type": "code",
     "collapsed": false,
     "input": [
      "%%hylang\n",
      "(setv x_tr (np.linspace 0. 2 200))\n",
      "(setv y_tr (f x_tr))\n"
     ],
     "language": "python",
     "outputs": [],
     "prompt_number": 9
    },
    {
     "cell_type": "code",
     "collapsed": false,
     "input": [
      "%%hylang\n",
      "(setv x (np.array [0 .1 .2 .5 .8 .9 1]))\n",
      "(setv y (+ (f x) (np.random.randn (len x))))\n"
     ],
     "language": "python",
     "outputs": [],
     "prompt_number": 10
    },
    {
     "cell_type": "code",
     "collapsed": false,
     "input": [
      "%%hylang\n",
      "(plt.plot (slice x_tr 0 100) (slice y_tr 0 100) '--k')\n",
      ";; (plt.plot x y 'ok' ms=10)"
     ],
     "language": "python",
     "outputs": [
      {
       "output_type": "stream",
       "stream": "stdout",
       "text": [
        "LexException: Could not identify the next token.\n",
        "\n",
        "\n"
       ]
      },
      {
       "ename": "UnboundLocalError",
       "evalue": "local variable 'tokens' referenced before assignment",
       "output_type": "pyerr",
       "traceback": [
        "\u001b[0;31m---------------------------------------------------------------------------\u001b[0m\n\u001b[0;31mUnboundLocalError\u001b[0m                         Traceback (most recent call last)",
        "\u001b[0;31mUnboundLocalError\u001b[0m: local variable 'tokens' referenced before assignment"
       ]
      }
     ],
     "prompt_number": 23
    }
   ]
  }
 ]
}