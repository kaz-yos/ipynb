{
 "metadata": {
  "name": "",
  "signature": "sha256:743aa0f166a78b5757a65940d2e5fd0d64df290ebdb8401bbc482eae204b979c"
 },
 "nbformat": 3,
 "nbformat_minor": 0,
 "worksheets": [
  {
   "cells": [
    {
     "cell_type": "heading",
     "level": 1,
     "source": [
      "*Hy test run! scikit-learn*"
     ]
    },
    {
     "cell_type": "markdown",
     "source": [
      "![Hy logo](http://docs.hylang.org/en/latest/_images/hy-logo-small.png \"Hy logo\")\n",
      "\n",
      "The Hy language (hylang) is a lisp language running on Python provided as a Python package. The full power of Python is leverage with lisp syntax!\n",
      "\n",
      "Hy\n",
      "http://docs.hylang.org/en/latest/\n",
      "\n",
      "hymagic IPython plugin.\n",
      "https://github.com/yardsale8/hymagic"
     ]
    },
    {
     "cell_type": "markdown",
     "source": [
      "This example is from the book IPython Interactive Computing and Visualization Cookbook"
     ]
    },
    {
     "cell_type": "code",
     "collapsed": false,
     "input": [
      "%load_ext hymagic"
     ],
     "language": "python",
     "outputs": [],
     "prompt_number": 4
    },
    {
     "cell_type": "code",
     "collapsed": false,
     "input": [
      "%%hylang\n",
      "(import [numpy :as np]\n",
      "        [scipy.stats :as st]\n",
      "        [sklearn.linear_model :as lm]\n",
      "        [matplotlib.pyplot :as plt])\n"
     ],
     "language": "python",
     "outputs": [],
     "prompt_number": 5
    },
    {
     "cell_type": "code",
     "collapsed": false,
     "input": [
      "%matplotlib inline"
     ],
     "language": "python",
     "outputs": [],
     "prompt_number": 6
    },
    {
     "cell_type": "code",
     "collapsed": false,
     "input": [
      "%%hylang\n",
      "(defn f [x]\n",
      "  (np.exp (* 3 x)))\n"
     ],
     "language": "python",
     "outputs": [],
     "prompt_number": 8
    },
    {
     "cell_type": "code",
     "collapsed": false,
     "input": [
      "%%hylang\n",
      "(setv x_tr (np.linspace 0. 2 200))\n",
      "(setv y_tr (f x_tr))\n"
     ],
     "language": "python",
     "outputs": [],
     "prompt_number": 9
    },
    {
     "cell_type": "code",
     "collapsed": false,
     "input": [
      "%%hylang\n",
      "(setv x (np.array [0 .1 .2 .5 .8 .9 1]))\n",
      "(setv y (+ (f x) (np.random.randn (len x))))\n"
     ],
     "language": "python",
     "outputs": [],
     "prompt_number": 10
    },
    {
     "cell_type": "code",
     "collapsed": false,
     "input": [
      "%%hylang\n",
      "(plt.plot (slice x_tr 0 100) (slice y_tr 0 100))\n",
      "(plt.plot x y)"
     ],
     "language": "python",
     "outputs": [
      {
       "output_type": "pyout",
       "prompt_number": 29,
       "text": [
        "[<matplotlib.lines.Line2D at 0x10862d128>]"
       ]
      },
      {
       "output_type": "display_data",
       "png": "[encoded data removed]",
       "text": [
        "<matplotlib.figure.Figure at 0x10862d048>"
       ]
      }
     ],
     "prompt_number": 29
    }
   ]
  }
 ]
}